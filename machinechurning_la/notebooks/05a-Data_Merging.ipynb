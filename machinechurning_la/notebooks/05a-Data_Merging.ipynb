{
 "cells": [
  {
   "cell_type": "markdown",
   "metadata": {},
   "source": [
    "# 5a. Merging Training and Weather and Test and Weather Data"
   ]
  },
  {
   "cell_type": "markdown",
   "metadata": {},
   "source": [
    "In this notebook, we will take the cleaned training and test data and merge each with weather data so we can fit both mosquito and weather data into a model to make predictions."
   ]
  },
  {
   "cell_type": "markdown",
   "metadata": {},
   "source": [
    "### Import modules"
   ]
  },
  {
   "cell_type": "code",
   "execution_count": 1,
   "metadata": {},
   "outputs": [],
   "source": [
    "import pandas as pd\n",
    "import numpy as np\n",
    "import matplotlib.pyplot as plt\n",
    "import seaborn as sns\n",
    "\n",
    "from scipy.stats import pearsonr\n",
    "\n",
    "%matplotlib inline"
   ]
  },
  {
   "cell_type": "markdown",
   "metadata": {},
   "source": [
    "### Import data"
   ]
  },
  {
   "cell_type": "markdown",
   "metadata": {},
   "source": [
    "Let's import the training and test data and weather data. We want to merge the weather data with each of the training and test datasets to combine the relevant features for our model."
   ]
  },
  {
   "cell_type": "code",
   "execution_count": 2,
   "metadata": {},
   "outputs": [],
   "source": [
    "train = pd.read_csv('../data/clean_train_df.csv')\n",
    "test = pd.read_csv('../data/clean_test_df.csv')\n",
    "weather = pd.read_csv('../data/clean_weather_df_NP.csv')"
   ]
  },
  {
   "cell_type": "markdown",
   "metadata": {},
   "source": [
    "#### Clean up"
   ]
  },
  {
   "cell_type": "markdown",
   "metadata": {},
   "source": [
    "Let's just make all the column names lowercase."
   ]
  },
  {
   "cell_type": "code",
   "execution_count": 3,
   "metadata": {},
   "outputs": [],
   "source": [
    "train.columns = train.columns.map(lambda x: x.lower())\n",
    "test.columns = test.columns.map(lambda x: x.lower())\n",
    "weather.columns = weather.columns.map(lambda x: x.lower())"
   ]
  },
  {
   "cell_type": "markdown",
   "metadata": {},
   "source": [
    "Let's also make our date columns DateTime columns:"
   ]
  },
  {
   "cell_type": "code",
   "execution_count": 4,
   "metadata": {},
   "outputs": [],
   "source": [
    "train['date'] = pd.to_datetime(train['date'])"
   ]
  },
  {
   "cell_type": "code",
   "execution_count": 5,
   "metadata": {},
   "outputs": [],
   "source": [
    "test['date'] = pd.to_datetime(test['date'])"
   ]
  },
  {
   "cell_type": "code",
   "execution_count": 6,
   "metadata": {},
   "outputs": [],
   "source": [
    "weather['date'] = pd.to_datetime(weather['date'])"
   ]
  },
  {
   "cell_type": "markdown",
   "metadata": {},
   "source": [
    "### Adding Lagged Data to Weather"
   ]
  },
  {
   "cell_type": "markdown",
   "metadata": {},
   "source": [
    "#### Temperature"
   ]
  },
  {
   "cell_type": "markdown",
   "metadata": {},
   "source": [
    "Let's add some lagged temperature data to our weather data and see if any of our features have a high correlation with wnvpresent when a lag is applied:"
   ]
  },
  {
   "cell_type": "code",
   "execution_count": 7,
   "metadata": {},
   "outputs": [],
   "source": [
    "weather['tavg_7'] = weather[['tavg']].rolling(7).mean()\n",
    "weather['tavg_30'] = weather[['tavg']].rolling(30).mean()\n",
    "\n",
    "weather['tavg_7'].fillna(weather['tavg'], inplace=True)\n",
    "weather['tavg_30'].fillna(weather['tavg'], inplace=True)"
   ]
  },
  {
   "cell_type": "code",
   "execution_count": 8,
   "metadata": {},
   "outputs": [],
   "source": [
    "train_weather = pd.merge(train, weather, on='date')"
   ]
  },
  {
   "cell_type": "code",
   "execution_count": 9,
   "metadata": {},
   "outputs": [],
   "source": [
    "wnv_by_date = train_weather.groupby(['date'])[['wnvpresent']].mean().reset_index()"
   ]
  },
  {
   "cell_type": "code",
   "execution_count": 10,
   "metadata": {},
   "outputs": [],
   "source": [
    "wnv_by_date.set_index('date', inplace=True)"
   ]
  },
  {
   "cell_type": "code",
   "execution_count": 11,
   "metadata": {},
   "outputs": [],
   "source": [
    "wnv_by_date = wnv_by_date.join(\n",
    "    train_weather.groupby('date').mean()[['tavg', 'tavg_7', 'tavg_30']]\n",
    ")"
   ]
  },
  {
   "cell_type": "code",
   "execution_count": 12,
   "metadata": {
    "scrolled": true
   },
   "outputs": [
    {
     "data": {
      "text/plain": [
       "<seaborn.axisgrid.PairGrid at 0x1a121a86a0>"
      ]
     },
     "execution_count": 12,
     "metadata": {},
     "output_type": "execute_result"
    },
    {
     "data": {
      "image/png": "[encoded data removed]",
      "text/plain": [
       "<Figure size 540x180 with 3 Axes>"
      ]
     },
     "metadata": {},
     "output_type": "display_data"
    }
   ],
   "source": [
    "sns.pairplot(data = wnv_by_date,\n",
    "                  y_vars=['wnvpresent'],\n",
    "                  x_vars=['tavg', 'tavg_7', 'tavg_30'])"
   ]
  },
  {
   "cell_type": "markdown",
   "metadata": {},
   "source": [
    "There seems to be a slight positive relationship. Let's take a look at the Pearson correlation."
   ]
  },
  {
   "cell_type": "code",
   "execution_count": 13,
   "metadata": {},
   "outputs": [
    {
     "name": "stdout",
     "output_type": "stream",
     "text": [
      "Daily Temp and # WNV Corr: (0.2547654676655157, 0.012719337292973153)\n",
      "7-Day MA Temp and # WNV Corr: (0.2524427515717739, 0.013585217357972062)\n",
      "30-Day MA Temp and # WNV Corr: (0.37212850303743217, 0.00020454554018029057)\n"
     ]
    }
   ],
   "source": [
    "print(\"Daily Temp and # WNV Corr:\", pearsonr(wnv_by_date['wnvpresent'], wnv_by_date['tavg']))\n",
    "print(\"7-Day MA Temp and # WNV Corr:\", pearsonr(wnv_by_date['wnvpresent'], wnv_by_date['tavg_7']))\n",
    "print(\"30-Day MA Temp and # WNV Corr:\", pearsonr(wnv_by_date['wnvpresent'], wnv_by_date['tavg_30']))"
   ]
  },
  {
   "cell_type": "markdown",
   "metadata": {},
   "source": [
    "There appears to be a moderate positive relationship between temperature for the day and the presence of west nile. There is a stronger relationship with the 30-day moving average temperate and the presence of west nile than with the daily average temperature."
   ]
  },
  {
   "cell_type": "markdown",
   "metadata": {},
   "source": [
    "#### Precipitation"
   ]
  },
  {
   "cell_type": "markdown",
   "metadata": {},
   "source": [
    "Let's do the same for precipitation:"
   ]
  },
  {
   "cell_type": "code",
   "execution_count": 14,
   "metadata": {},
   "outputs": [],
   "source": [
    "wnv_by_date = wnv_by_date.join(train_weather.groupby('date').mean()[['preciptotal']])\n",
    "\n",
    "wnv_by_date['preciptotal_shift6'] = train_weather.groupby('date').mean()[['preciptotal']].shift(6)\n",
    "wnv_by_date['preciptotal_shift6'].fillna(wnv_by_date['preciptotal'], inplace=True)\n",
    "\n",
    "wnv_by_date['preciptotal_shift30'] = train_weather.groupby('date').mean()[['preciptotal']].shift(30)\n",
    "wnv_by_date['preciptotal_shift30'].fillna(wnv_by_date['preciptotal'], inplace=True)"
   ]
  },
  {
   "cell_type": "code",
   "execution_count": 15,
   "metadata": {},
   "outputs": [
    {
     "data": {
      "text/html": [
       "<div>\n",
       "<style scoped>\n",
       "    .dataframe tbody tr th:only-of-type {\n",
       "        vertical-align: middle;\n",
       "    }\n",
       "\n",
       "    .dataframe tbody tr th {\n",
       "        vertical-align: top;\n",
       "    }\n",
       "\n",
       "    .dataframe thead th {\n",
       "        text-align: right;\n",
       "    }\n",
       "</style>\n",
       "<table border=\"1\" class=\"dataframe\">\n",
       "  <thead>\n",
       "    <tr style=\"text-align: right;\">\n",
       "      <th></th>\n",
       "      <th>wnvpresent</th>\n",
       "      <th>tavg</th>\n",
       "      <th>tavg_7</th>\n",
       "      <th>tavg_30</th>\n",
       "      <th>preciptotal</th>\n",
       "      <th>preciptotal_shift6</th>\n",
       "      <th>preciptotal_shift30</th>\n",
       "    </tr>\n",
       "    <tr>\n",
       "      <th>date</th>\n",
       "      <th></th>\n",
       "      <th></th>\n",
       "      <th></th>\n",
       "      <th></th>\n",
       "      <th></th>\n",
       "      <th></th>\n",
       "      <th></th>\n",
       "    </tr>\n",
       "  </thead>\n",
       "  <tbody>\n",
       "    <tr>\n",
       "      <th>2007-05-29</th>\n",
       "      <td>0.0</td>\n",
       "      <td>75.5</td>\n",
       "      <td>66.285714</td>\n",
       "      <td>64.883333</td>\n",
       "      <td>0.0000</td>\n",
       "      <td>0.0000</td>\n",
       "      <td>0.0000</td>\n",
       "    </tr>\n",
       "    <tr>\n",
       "      <th>2007-06-05</th>\n",
       "      <td>0.0</td>\n",
       "      <td>56.5</td>\n",
       "      <td>66.571429</td>\n",
       "      <td>69.833333</td>\n",
       "      <td>0.3450</td>\n",
       "      <td>0.3450</td>\n",
       "      <td>0.3450</td>\n",
       "    </tr>\n",
       "    <tr>\n",
       "      <th>2007-06-26</th>\n",
       "      <td>0.0</td>\n",
       "      <td>81.5</td>\n",
       "      <td>73.357143</td>\n",
       "      <td>74.800000</td>\n",
       "      <td>0.0805</td>\n",
       "      <td>0.0805</td>\n",
       "      <td>0.0805</td>\n",
       "    </tr>\n",
       "    <tr>\n",
       "      <th>2007-06-29</th>\n",
       "      <td>0.0</td>\n",
       "      <td>63.0</td>\n",
       "      <td>75.714286</td>\n",
       "      <td>74.766667</td>\n",
       "      <td>0.0000</td>\n",
       "      <td>0.0000</td>\n",
       "      <td>0.0000</td>\n",
       "    </tr>\n",
       "    <tr>\n",
       "      <th>2007-07-02</th>\n",
       "      <td>0.0</td>\n",
       "      <td>67.0</td>\n",
       "      <td>66.428571</td>\n",
       "      <td>72.700000</td>\n",
       "      <td>0.0000</td>\n",
       "      <td>0.0000</td>\n",
       "      <td>0.0000</td>\n",
       "    </tr>\n",
       "  </tbody>\n",
       "</table>\n",
       "</div>"
      ],
      "text/plain": [
       "            wnvpresent  tavg     tavg_7    tavg_30  preciptotal  \\\n",
       "date                                                              \n",
       "2007-05-29         0.0  75.5  66.285714  64.883333       0.0000   \n",
       "2007-06-05         0.0  56.5  66.571429  69.833333       0.3450   \n",
       "2007-06-26         0.0  81.5  73.357143  74.800000       0.0805   \n",
       "2007-06-29         0.0  63.0  75.714286  74.766667       0.0000   \n",
       "2007-07-02         0.0  67.0  66.428571  72.700000       0.0000   \n",
       "\n",
       "            preciptotal_shift6  preciptotal_shift30  \n",
       "date                                                 \n",
       "2007-05-29              0.0000               0.0000  \n",
       "2007-06-05              0.3450               0.3450  \n",
       "2007-06-26              0.0805               0.0805  \n",
       "2007-06-29              0.0000               0.0000  \n",
       "2007-07-02              0.0000               0.0000  "
      ]
     },
     "execution_count": 15,
     "metadata": {},
     "output_type": "execute_result"
    }
   ],
   "source": [
    "wnv_by_date.head()"
   ]
  },
  {
   "cell_type": "code",
   "execution_count": 16,
   "metadata": {},
   "outputs": [
    {
     "data": {
      "text/plain": [
       "<seaborn.axisgrid.PairGrid at 0x10c86a128>"
      ]
     },
     "execution_count": 16,
     "metadata": {},
     "output_type": "execute_result"
    },
    {
     "data": {
      "image/png": "[encoded data removed]",
      "text/plain": [
       "<Figure size 540x180 with 3 Axes>"
      ]
     },
     "metadata": {},
     "output_type": "display_data"
    }
   ],
   "source": [
    "sns.pairplot(data = wnv_by_date,\n",
    "                  y_vars=['wnvpresent'],\n",
    "                  x_vars=['preciptotal', 'preciptotal_shift6', 'preciptotal_shift30'])"
   ]
  },
  {
   "cell_type": "markdown",
   "metadata": {},
   "source": [
    "Can't really discern a relationship from the plots... Let's take a look at the Pearson correlation."
   ]
  },
  {
   "cell_type": "code",
   "execution_count": 17,
   "metadata": {
    "scrolled": true
   },
   "outputs": [
    {
     "name": "stdout",
     "output_type": "stream",
     "text": [
      "Daily Precipitation and # WNV Corr: (-0.048541577631764185, 0.6404018862305458)\n",
      "6-Day Shift Precipitation and # WNV Corr: (0.0026010429850052957, 0.9800419976857975)\n",
      "30-Day Shift Precipitation and # WNV Corr: (0.03944679256039459, 0.7042886004155285)\n"
     ]
    }
   ],
   "source": [
    "print(\"Daily Precipitation and # WNV Corr:\", pearsonr(wnv_by_date['wnvpresent'], wnv_by_date['preciptotal']))\n",
    "print(\"6-Day Shift Precipitation and # WNV Corr:\", pearsonr(wnv_by_date['wnvpresent'], wnv_by_date['preciptotal_shift6']))\n",
    "print(\"30-Day Shift Precipitation and # WNV Corr:\", pearsonr(wnv_by_date['wnvpresent'], wnv_by_date['preciptotal_shift30']))"
   ]
  },
  {
   "cell_type": "markdown",
   "metadata": {},
   "source": [
    "There appears to be no relationship between precipitation or lagged precipitation and the presence of west nile virus."
   ]
  },
  {
   "cell_type": "markdown",
   "metadata": {},
   "source": [
    "#### What about Spray?"
   ]
  },
  {
   "cell_type": "markdown",
   "metadata": {},
   "source": [
    "We do not want the spray dataset in our merged data as it doesn't have very many relevant features. Let's take a look:"
   ]
  },
  {
   "cell_type": "code",
   "execution_count": 18,
   "metadata": {},
   "outputs": [],
   "source": [
    "spray = pd.read_csv('../data/cleaned_spray.csv')"
   ]
  },
  {
   "cell_type": "code",
   "execution_count": 19,
   "metadata": {},
   "outputs": [
    {
     "data": {
      "text/plain": [
       "Index(['date', 'time', 'latitude', 'longitude'], dtype='object')"
      ]
     },
     "execution_count": 19,
     "metadata": {},
     "output_type": "execute_result"
    }
   ],
   "source": [
    "spray.columns"
   ]
  },
  {
   "cell_type": "code",
   "execution_count": 20,
   "metadata": {},
   "outputs": [
    {
     "data": {
      "text/plain": [
       "array(['2011-08-29', '2011-09-07', '2013-07-17', '2013-07-25',\n",
       "       '2013-08-08', '2013-08-15', '2013-08-16', '2013-08-22',\n",
       "       '2013-08-29', '2013-09-05'], dtype=object)"
      ]
     },
     "execution_count": 20,
     "metadata": {},
     "output_type": "execute_result"
    }
   ],
   "source": [
    "spray.date.unique()"
   ]
  },
  {
   "cell_type": "markdown",
   "metadata": {},
   "source": [
    "We will not use the spray data as a feature in our merged data because there are only 10 different days in which spraying happened. Also, our test data does not contain any of the dates represented by the spraying data.\n",
    "\n",
    "What we might use spraying data for is check how much mosquito counts decreases in the two week period after a spray, in order to perform a cost-benefit analysis. However, this will not factor into our ensemble models."
   ]
  },
  {
   "cell_type": "markdown",
   "metadata": {},
   "source": [
    "### Merging the dataframes"
   ]
  },
  {
   "cell_type": "markdown",
   "metadata": {},
   "source": [
    "We'd like to merge our dataframes on the date column (to align observations by date). Note that the weather dataframe has two observations per date - one for each station. We don't need both stations, as this will duplicate the number of observations in our training set, so let's drop one station."
   ]
  },
  {
   "cell_type": "code",
   "execution_count": 21,
   "metadata": {},
   "outputs": [],
   "source": [
    "weather.drop(weather[weather.station == 2].index, inplace=True)"
   ]
  },
  {
   "cell_type": "markdown",
   "metadata": {},
   "source": [
    "#### Merge Train and Weather"
   ]
  },
  {
   "cell_type": "code",
   "execution_count": 22,
   "metadata": {},
   "outputs": [],
   "source": [
    "train_weather = pd.merge(train, weather, on='date')"
   ]
  },
  {
   "cell_type": "code",
   "execution_count": 23,
   "metadata": {},
   "outputs": [
    {
     "name": "stdout",
     "output_type": "stream",
     "text": [
      " Train shape: (10506, 15) \n",
      " Merged shape: (10413, 51)\n"
     ]
    }
   ],
   "source": [
    "print(\" Train shape:\", train.shape, '\\n',\n",
    "      \"Merged shape:\", train_weather.shape)"
   ]
  },
  {
   "cell_type": "code",
   "execution_count": 24,
   "metadata": {},
   "outputs": [
    {
     "data": {
      "text/plain": [
       "Index(['date', 'address', 'species', 'block', 'street', 'trap',\n",
       "       'addressnumberandstreet', 'latitude', 'longitude', 'addressaccuracy',\n",
       "       'nummosquitos', 'wnvpresent', 'year', 'month', 'day', 'station', 'tmax',\n",
       "       'tmin', 'tavg', 'dewpoint', 'wetbulb', 'heat', 'cool', 'sunrise',\n",
       "       'sunset', 'codesum', 'snowfall', 'preciptotal', 'stnpressure',\n",
       "       'sealevel', 'resultspeed', 'resultdir', 'avgspeed', 'dz', 'vcts',\n",
       "       'mifg', 'vcfg', 'ra', 'fu', 'hz', 'ts', 'bcfg', 'sq', 'tsra', 'gr',\n",
       "       'sn', 'br', 'fg+', 'fg', 'tavg_7', 'tavg_30'],\n",
       "      dtype='object')"
      ]
     },
     "execution_count": 24,
     "metadata": {},
     "output_type": "execute_result"
    }
   ],
   "source": [
    "train_weather.columns"
   ]
  },
  {
   "cell_type": "markdown",
   "metadata": {},
   "source": [
    "#### Merge Test and Weather"
   ]
  },
  {
   "cell_type": "code",
   "execution_count": 25,
   "metadata": {},
   "outputs": [],
   "source": [
    "test_weather = pd.merge(test, weather, on='date')"
   ]
  },
  {
   "cell_type": "code",
   "execution_count": 26,
   "metadata": {},
   "outputs": [
    {
     "name": "stdout",
     "output_type": "stream",
     "text": [
      " Test shape: (116293, 13) \n",
      " Merged shape: (116293, 49)\n"
     ]
    }
   ],
   "source": [
    "print(\" Test shape:\", test.shape, '\\n',\n",
    "      \"Merged shape:\", test_weather.shape)"
   ]
  },
  {
   "cell_type": "code",
   "execution_count": 27,
   "metadata": {},
   "outputs": [
    {
     "data": {
      "text/plain": [
       "Index(['date', 'address', 'species', 'block', 'street', 'trap',\n",
       "       'addressnumberandstreet', 'latitude', 'longitude', 'addressaccuracy',\n",
       "       'year', 'month', 'day', 'station', 'tmax', 'tmin', 'tavg', 'dewpoint',\n",
       "       'wetbulb', 'heat', 'cool', 'sunrise', 'sunset', 'codesum', 'snowfall',\n",
       "       'preciptotal', 'stnpressure', 'sealevel', 'resultspeed', 'resultdir',\n",
       "       'avgspeed', 'dz', 'vcts', 'mifg', 'vcfg', 'ra', 'fu', 'hz', 'ts',\n",
       "       'bcfg', 'sq', 'tsra', 'gr', 'sn', 'br', 'fg+', 'fg', 'tavg_7',\n",
       "       'tavg_30'],\n",
       "      dtype='object')"
      ]
     },
     "execution_count": 27,
     "metadata": {},
     "output_type": "execute_result"
    }
   ],
   "source": [
    "test_weather.columns"
   ]
  },
  {
   "cell_type": "markdown",
   "metadata": {},
   "source": [
    "#### Compare the Merged DataFrames"
   ]
  },
  {
   "cell_type": "code",
   "execution_count": 28,
   "metadata": {},
   "outputs": [
    {
     "data": {
      "text/plain": [
       "['nummosquitos', 'wnvpresent']"
      ]
     },
     "execution_count": 28,
     "metadata": {},
     "output_type": "execute_result"
    }
   ],
   "source": [
    "list(set(train_weather.columns) - set(test_weather.columns))"
   ]
  },
  {
   "cell_type": "markdown",
   "metadata": {},
   "source": [
    "Let's drop our nummosquitos and wnvpresent columns from our train data. Let's also set wnvpresent as our target variable, simultaneously."
   ]
  },
  {
   "cell_type": "code",
   "execution_count": 29,
   "metadata": {},
   "outputs": [],
   "source": [
    "y = train_weather['wnvpresent']"
   ]
  },
  {
   "cell_type": "code",
   "execution_count": 30,
   "metadata": {},
   "outputs": [
    {
     "data": {
      "text/plain": [
       "0"
      ]
     },
     "execution_count": 30,
     "metadata": {},
     "output_type": "execute_result"
    }
   ],
   "source": [
    "y.isnull().sum().sum()"
   ]
  },
  {
   "cell_type": "code",
   "execution_count": 31,
   "metadata": {},
   "outputs": [],
   "source": [
    "X = train_weather.drop(['wnvpresent', 'nummosquitos'], axis=1)"
   ]
  },
  {
   "cell_type": "markdown",
   "metadata": {},
   "source": [
    "Let's see if there are any column differences:"
   ]
  },
  {
   "cell_type": "code",
   "execution_count": 32,
   "metadata": {},
   "outputs": [
    {
     "data": {
      "text/plain": [
       "[]"
      ]
     },
     "execution_count": 32,
     "metadata": {},
     "output_type": "execute_result"
    }
   ],
   "source": [
    "list(set(X.columns) - set(test_weather.columns))"
   ]
  },
  {
   "cell_type": "code",
   "execution_count": 33,
   "metadata": {},
   "outputs": [
    {
     "data": {
      "text/plain": [
       "[]"
      ]
     },
     "execution_count": 33,
     "metadata": {},
     "output_type": "execute_result"
    }
   ],
   "source": [
    "list(set(test_weather.columns) - set(X.columns))"
   ]
  },
  {
   "cell_type": "markdown",
   "metadata": {},
   "source": [
    "None! We're good."
   ]
  },
  {
   "cell_type": "markdown",
   "metadata": {},
   "source": [
    "### Drop Un-needed Columns"
   ]
  },
  {
   "cell_type": "markdown",
   "metadata": {},
   "source": [
    "Let's take a look at our columns again and see what's unneeded from a modeling standpoint:"
   ]
  },
  {
   "cell_type": "code",
   "execution_count": 34,
   "metadata": {},
   "outputs": [
    {
     "data": {
      "text/plain": [
       "(array([2008, 2010, 2012, 2014]), array([2007, 2009, 2011, 2013]))"
      ]
     },
     "execution_count": 34,
     "metadata": {},
     "output_type": "execute_result"
    }
   ],
   "source": [
    "test_weather['year'].unique(), X['year'].unique()"
   ]
  },
  {
   "cell_type": "code",
   "execution_count": 35,
   "metadata": {},
   "outputs": [
    {
     "data": {
      "text/plain": [
       "Index(['date', 'address', 'species', 'block', 'street', 'trap',\n",
       "       'addressnumberandstreet', 'latitude', 'longitude', 'addressaccuracy',\n",
       "       'year', 'month', 'day', 'station', 'tmax', 'tmin', 'tavg', 'dewpoint',\n",
       "       'wetbulb', 'heat', 'cool', 'sunrise', 'sunset', 'codesum', 'snowfall',\n",
       "       'preciptotal', 'stnpressure', 'sealevel', 'resultspeed', 'resultdir',\n",
       "       'avgspeed', 'dz', 'vcts', 'mifg', 'vcfg', 'ra', 'fu', 'hz', 'ts',\n",
       "       'bcfg', 'sq', 'tsra', 'gr', 'sn', 'br', 'fg+', 'fg', 'tavg_7',\n",
       "       'tavg_30'],\n",
       "      dtype='object')"
      ]
     },
     "execution_count": 35,
     "metadata": {},
     "output_type": "execute_result"
    }
   ],
   "source": [
    "X.columns"
   ]
  },
  {
   "cell_type": "markdown",
   "metadata": {},
   "source": [
    "It looks like we dont need the following:\n",
    "- date: we won't drop this, but will make this our index when we do modeling.\n",
    "- address: captured by lat/long\n",
    "- block: captured by lat/long\n",
    "- street: captured by lat/long\n",
    "- addressnumberandstreet: duplicate information of address\n",
    "- addressaccuracy: don't need this, just error info\n",
    "- year: since our years in our train and test data don't match, we don't need this\n",
    "- codesum: we have created dummy columns for this feature"
   ]
  },
  {
   "cell_type": "code",
   "execution_count": 36,
   "metadata": {},
   "outputs": [],
   "source": [
    "drop_cols = ['address', 'block', 'street', 'addressnumberandstreet', \n",
    "             'addressaccuracy', 'year', 'codesum']\n",
    "X.drop(drop_cols, axis=1, inplace=True)\n",
    "test_weather.drop(drop_cols, axis=1, inplace=True)"
   ]
  },
  {
   "cell_type": "code",
   "execution_count": 37,
   "metadata": {},
   "outputs": [
    {
     "name": "stdout",
     "output_type": "stream",
     "text": [
      "(10413, 42)\n",
      "(116293, 42)\n"
     ]
    }
   ],
   "source": [
    "print(X.shape)\n",
    "print(test_weather.shape)"
   ]
  },
  {
   "cell_type": "markdown",
   "metadata": {},
   "source": [
    "### Get dummies"
   ]
  },
  {
   "cell_type": "code",
   "execution_count": 38,
   "metadata": {},
   "outputs": [],
   "source": [
    "X_dum = pd.get_dummies(X)\n",
    "test_weather_dum = pd.get_dummies(test_weather)"
   ]
  },
  {
   "cell_type": "markdown",
   "metadata": {},
   "source": [
    "Let's compare the shape of each dataframe to see how many features there are."
   ]
  },
  {
   "cell_type": "code",
   "execution_count": 39,
   "metadata": {},
   "outputs": [
    {
     "name": "stdout",
     "output_type": "stream",
     "text": [
      "(10413, 180)\n",
      "(116293, 193)\n"
     ]
    }
   ],
   "source": [
    "print(X_dum.shape)\n",
    "print(test_weather_dum.shape)"
   ]
  },
  {
   "cell_type": "markdown",
   "metadata": {},
   "source": [
    "There are differences in the number of features, so let's create a set of columns that are in the train dataset that are not in the test dataset, and add those columns to the test dataset and set them equal to 0."
   ]
  },
  {
   "cell_type": "code",
   "execution_count": 40,
   "metadata": {},
   "outputs": [],
   "source": [
    "set1 = set(X_dum.columns).difference(test_weather_dum.columns)"
   ]
  },
  {
   "cell_type": "code",
   "execution_count": 41,
   "metadata": {},
   "outputs": [],
   "source": [
    "for item in set1:\n",
    "    test_weather_dum[item] = 0"
   ]
  },
  {
   "cell_type": "markdown",
   "metadata": {},
   "source": [
    "Let's now retrieve only the columns that are in the train dataset..."
   ]
  },
  {
   "cell_type": "code",
   "execution_count": 42,
   "metadata": {},
   "outputs": [
    {
     "data": {
      "text/html": [
       "<div>\n",
       "<style scoped>\n",
       "    .dataframe tbody tr th:only-of-type {\n",
       "        vertical-align: middle;\n",
       "    }\n",
       "\n",
       "    .dataframe tbody tr th {\n",
       "        vertical-align: top;\n",
       "    }\n",
       "\n",
       "    .dataframe thead th {\n",
       "        text-align: right;\n",
       "    }\n",
       "</style>\n",
       "<table border=\"1\" class=\"dataframe\">\n",
       "  <thead>\n",
       "    <tr style=\"text-align: right;\">\n",
       "      <th></th>\n",
       "      <th>date</th>\n",
       "      <th>latitude</th>\n",
       "      <th>longitude</th>\n",
       "      <th>month</th>\n",
       "      <th>day</th>\n",
       "      <th>station</th>\n",
       "      <th>tmax</th>\n",
       "      <th>tmin</th>\n",
       "      <th>tavg</th>\n",
       "      <th>dewpoint</th>\n",
       "      <th>...</th>\n",
       "      <th>trap_T230</th>\n",
       "      <th>trap_T231</th>\n",
       "      <th>trap_T232</th>\n",
       "      <th>trap_T233</th>\n",
       "      <th>trap_T235</th>\n",
       "      <th>trap_T236</th>\n",
       "      <th>trap_T237</th>\n",
       "      <th>trap_T238</th>\n",
       "      <th>trap_T900</th>\n",
       "      <th>trap_T903</th>\n",
       "    </tr>\n",
       "  </thead>\n",
       "  <tbody>\n",
       "    <tr>\n",
       "      <th>0</th>\n",
       "      <td>2008-06-11</td>\n",
       "      <td>41.95469</td>\n",
       "      <td>-87.800991</td>\n",
       "      <td>6</td>\n",
       "      <td>11</td>\n",
       "      <td>1</td>\n",
       "      <td>86</td>\n",
       "      <td>61</td>\n",
       "      <td>74</td>\n",
       "      <td>56</td>\n",
       "      <td>...</td>\n",
       "      <td>0</td>\n",
       "      <td>0</td>\n",
       "      <td>0</td>\n",
       "      <td>0</td>\n",
       "      <td>0</td>\n",
       "      <td>0</td>\n",
       "      <td>0</td>\n",
       "      <td>0</td>\n",
       "      <td>0</td>\n",
       "      <td>0</td>\n",
       "    </tr>\n",
       "    <tr>\n",
       "      <th>1</th>\n",
       "      <td>2008-06-11</td>\n",
       "      <td>41.95469</td>\n",
       "      <td>-87.800991</td>\n",
       "      <td>6</td>\n",
       "      <td>11</td>\n",
       "      <td>1</td>\n",
       "      <td>86</td>\n",
       "      <td>61</td>\n",
       "      <td>74</td>\n",
       "      <td>56</td>\n",
       "      <td>...</td>\n",
       "      <td>0</td>\n",
       "      <td>0</td>\n",
       "      <td>0</td>\n",
       "      <td>0</td>\n",
       "      <td>0</td>\n",
       "      <td>0</td>\n",
       "      <td>0</td>\n",
       "      <td>0</td>\n",
       "      <td>0</td>\n",
       "      <td>0</td>\n",
       "    </tr>\n",
       "    <tr>\n",
       "      <th>2</th>\n",
       "      <td>2008-06-11</td>\n",
       "      <td>41.95469</td>\n",
       "      <td>-87.800991</td>\n",
       "      <td>6</td>\n",
       "      <td>11</td>\n",
       "      <td>1</td>\n",
       "      <td>86</td>\n",
       "      <td>61</td>\n",
       "      <td>74</td>\n",
       "      <td>56</td>\n",
       "      <td>...</td>\n",
       "      <td>0</td>\n",
       "      <td>0</td>\n",
       "      <td>0</td>\n",
       "      <td>0</td>\n",
       "      <td>0</td>\n",
       "      <td>0</td>\n",
       "      <td>0</td>\n",
       "      <td>0</td>\n",
       "      <td>0</td>\n",
       "      <td>0</td>\n",
       "    </tr>\n",
       "    <tr>\n",
       "      <th>3</th>\n",
       "      <td>2008-06-11</td>\n",
       "      <td>41.95469</td>\n",
       "      <td>-87.800991</td>\n",
       "      <td>6</td>\n",
       "      <td>11</td>\n",
       "      <td>1</td>\n",
       "      <td>86</td>\n",
       "      <td>61</td>\n",
       "      <td>74</td>\n",
       "      <td>56</td>\n",
       "      <td>...</td>\n",
       "      <td>0</td>\n",
       "      <td>0</td>\n",
       "      <td>0</td>\n",
       "      <td>0</td>\n",
       "      <td>0</td>\n",
       "      <td>0</td>\n",
       "      <td>0</td>\n",
       "      <td>0</td>\n",
       "      <td>0</td>\n",
       "      <td>0</td>\n",
       "    </tr>\n",
       "    <tr>\n",
       "      <th>4</th>\n",
       "      <td>2008-06-11</td>\n",
       "      <td>41.95469</td>\n",
       "      <td>-87.800991</td>\n",
       "      <td>6</td>\n",
       "      <td>11</td>\n",
       "      <td>1</td>\n",
       "      <td>86</td>\n",
       "      <td>61</td>\n",
       "      <td>74</td>\n",
       "      <td>56</td>\n",
       "      <td>...</td>\n",
       "      <td>0</td>\n",
       "      <td>0</td>\n",
       "      <td>0</td>\n",
       "      <td>0</td>\n",
       "      <td>0</td>\n",
       "      <td>0</td>\n",
       "      <td>0</td>\n",
       "      <td>0</td>\n",
       "      <td>0</td>\n",
       "      <td>0</td>\n",
       "    </tr>\n",
       "  </tbody>\n",
       "</table>\n",
       "<p>5 rows × 180 columns</p>\n",
       "</div>"
      ],
      "text/plain": [
       "        date  latitude  longitude  month  day  station  tmax  tmin  tavg  \\\n",
       "0 2008-06-11  41.95469 -87.800991      6   11        1    86    61    74   \n",
       "1 2008-06-11  41.95469 -87.800991      6   11        1    86    61    74   \n",
       "2 2008-06-11  41.95469 -87.800991      6   11        1    86    61    74   \n",
       "3 2008-06-11  41.95469 -87.800991      6   11        1    86    61    74   \n",
       "4 2008-06-11  41.95469 -87.800991      6   11        1    86    61    74   \n",
       "\n",
       "   dewpoint    ...      trap_T230  trap_T231  trap_T232  trap_T233  trap_T235  \\\n",
       "0        56    ...              0          0          0          0          0   \n",
       "1        56    ...              0          0          0          0          0   \n",
       "2        56    ...              0          0          0          0          0   \n",
       "3        56    ...              0          0          0          0          0   \n",
       "4        56    ...              0          0          0          0          0   \n",
       "\n",
       "   trap_T236  trap_T237  trap_T238  trap_T900  trap_T903  \n",
       "0          0          0          0          0          0  \n",
       "1          0          0          0          0          0  \n",
       "2          0          0          0          0          0  \n",
       "3          0          0          0          0          0  \n",
       "4          0          0          0          0          0  \n",
       "\n",
       "[5 rows x 180 columns]"
      ]
     },
     "execution_count": 42,
     "metadata": {},
     "output_type": "execute_result"
    }
   ],
   "source": [
    "test_weather_dum[X_dum.columns].head()"
   ]
  },
  {
   "cell_type": "markdown",
   "metadata": {},
   "source": [
    "And shrink the test dataset to contain only the columns that are also present in the train dataset. This way the number of features in both datasets will match."
   ]
  },
  {
   "cell_type": "code",
   "execution_count": 43,
   "metadata": {},
   "outputs": [],
   "source": [
    "test_weather_dum = test_weather_dum[X_dum.columns]"
   ]
  },
  {
   "cell_type": "code",
   "execution_count": 44,
   "metadata": {},
   "outputs": [
    {
     "name": "stdout",
     "output_type": "stream",
     "text": [
      "(10413, 180)\n",
      "(116293, 180)\n"
     ]
    }
   ],
   "source": [
    "print(X_dum.shape)\n",
    "print(test_weather_dum.shape)"
   ]
  },
  {
   "cell_type": "code",
   "execution_count": 45,
   "metadata": {},
   "outputs": [
    {
     "name": "stdout",
     "output_type": "stream",
     "text": [
      "(10413,)\n"
     ]
    }
   ],
   "source": [
    "print(y.shape)"
   ]
  },
  {
   "cell_type": "markdown",
   "metadata": {},
   "source": [
    "## Exporting merged data"
   ]
  },
  {
   "cell_type": "code",
   "execution_count": 46,
   "metadata": {},
   "outputs": [],
   "source": [
    "X.to_csv('../data/train_weather_merged.csv', index=False)\n",
    "test_weather.to_csv('../data/test_weather_merged.csv', index=False)\n",
    "y.to_csv('../data/target.csv', index=False)"
   ]
  },
  {
   "cell_type": "code",
   "execution_count": 47,
   "metadata": {},
   "outputs": [],
   "source": [
    "X_dum.to_csv('../data/train_weather_merged_dum.csv', index=False)\n",
    "test_weather_dum.to_csv('../data/test_weather_merged_dum.csv', index=False)"
   ]
  }
 ],
 "metadata": {
  "kernelspec": {
   "display_name": "Python 3",
   "language": "python",
   "name": "python3"
  },
  "language_info": {
   "codemirror_mode": {
    "name": "ipython",
    "version": 3
   },
   "file_extension": ".py",
   "mimetype": "text/x-python",
   "name": "python",
   "nbconvert_exporter": "python",
   "pygments_lexer": "ipython3",
   "version": "3.6.5"
  }
 },
 "nbformat": 4,
 "nbformat_minor": 2
}
